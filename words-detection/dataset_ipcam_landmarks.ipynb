{
 "cells": [
  {
   "cell_type": "code",
   "execution_count": 1,
   "metadata": {},
   "outputs": [],
   "source": [
    "import numpy as np\n",
    "import os\n",
    "from matplotlib import pyplot as plt\n",
    "import time\n",
    "import mediapipe as mp\n",
    "import cv2\n",
    "\n",
    "mp_holistic = mp.solutions.holistic # Holistic model\n",
    "mp_drawing = mp.solutions.drawing_utils # Drawing utilities\n",
    "\n",
    "def mediapipe_detection(image, model):\n",
    "    image = cv2.cvtColor(image, cv2.COLOR_BGR2RGB) # COLOR CONVERSION BGR 2 RGB\n",
    "    image.flags.writeable = False                  # Image is no longer writeable\n",
    "    results = model.process(image)                 # Make prediction\n",
    "    image.flags.writeable = True                   # Image is now writeable \n",
    "    image = cv2.cvtColor(image, cv2.COLOR_RGB2BGR) # COLOR COVERSION RGB 2 BGR\n",
    "    return image, results\n",
    "\n",
    "def draw_landmarks(image, results):\n",
    "    mp_drawing.draw_landmarks(image, results.face_landmarks, mp_holistic.FACEMESH_CONTOURS)      # Draw face connections\n",
    "    mp_drawing.draw_landmarks(image, results.pose_landmarks, mp_holistic.POSE_CONNECTIONS)       # Draw pose connections\n",
    "    mp_drawing.draw_landmarks(image, results.left_hand_landmarks, mp_holistic.HAND_CONNECTIONS)  # Draw left hand connections\n",
    "    mp_drawing.draw_landmarks(image, results.right_hand_landmarks, mp_holistic.HAND_CONNECTIONS) # Draw right hand connections\n",
    "\n",
    "def draw_styled_landmarks(image, results):\n",
    "    # Draw face connections\n",
    "    mp_drawing.draw_landmarks(image, results.face_landmarks, mp_holistic.FACEMESH_CONTOURS, \n",
    "                               mp_drawing.DrawingSpec(color=(80,110,10), thickness=1, circle_radius=1), \n",
    "                               mp_drawing.DrawingSpec(color=(80,256,121), thickness=1, circle_radius=1)\n",
    "                              ) \n",
    "    # Draw pose connections\n",
    "    mp_drawing.draw_landmarks(image, results.pose_landmarks, mp_holistic.POSE_CONNECTIONS,\n",
    "                               mp_drawing.DrawingSpec(color=(80,22,10), thickness=2, circle_radius=4), \n",
    "                               mp_drawing.DrawingSpec(color=(80,44,121), thickness=2, circle_radius=2)\n",
    "                              ) \n",
    "    # Draw left hand connections\n",
    "    mp_drawing.draw_landmarks(image, results.left_hand_landmarks, mp_holistic.HAND_CONNECTIONS, \n",
    "                               mp_drawing.DrawingSpec(color=(121,22,76), thickness=2, circle_radius=4), \n",
    "                               mp_drawing.DrawingSpec(color=(121,44,250), thickness=2, circle_radius=2)\n",
    "                              ) \n",
    "    # Draw right hand connections  \n",
    "    mp_drawing.draw_landmarks(image, results.right_hand_landmarks, mp_holistic.HAND_CONNECTIONS, \n",
    "                               mp_drawing.DrawingSpec(color=(245,117,66), thickness=2, circle_radius=4), \n",
    "                               mp_drawing.DrawingSpec(color=(245,66,230), thickness=2, circle_radius=2)\n",
    "                              ) \n",
    "def extract_keypoints(results):\n",
    "    pose = np.array([[res.x, res.y, res.z, res.visibility] for res in results.pose_landmarks.landmark]).flatten() if results.pose_landmarks else np.zeros(33*4)\n",
    "    face = np.array([[res.x, res.y, res.z] for res in results.face_landmarks.landmark]).flatten() if results.face_landmarks else np.zeros(468*3)\n",
    "    lh = np.array([[res.x, res.y, res.z] for res in results.left_hand_landmarks.landmark]).flatten() if results.left_hand_landmarks else np.zeros(21*3)\n",
    "    rh = np.array([[res.x, res.y, res.z] for res in results.right_hand_landmarks.landmark]).flatten() if results.right_hand_landmarks else np.zeros(21*3)\n",
    "    return np.concatenate([pose, face, lh, rh])"
   ]
  },
  {
   "cell_type": "markdown",
   "metadata": {},
   "source": [
    "## ---------------------------------- DATASET PATH ----------------------------------"
   ]
  },
  {
   "cell_type": "code",
   "execution_count": 14,
   "metadata": {},
   "outputs": [
    {
     "name": "stdout",
     "output_type": "stream",
     "text": [
      "ipcam_dataset already existed!\n"
     ]
    }
   ],
   "source": [
    "DATA_PATH = os.path.join('ipcam_dataset')\n",
    "\n",
    "# Create directories\n",
    "# First, check if the base directory exists. If not, create it.\n",
    "if not os.path.exists(DATA_PATH):\n",
    "    os.makedirs(DATA_PATH)\n",
    "    print(f\"Created directory: {DATA_PATH}\")\n",
    "else:\n",
    "    print(f\"{DATA_PATH} already existed!\")"
   ]
  },
  {
   "cell_type": "markdown",
   "metadata": {},
   "source": [
    "## ---------------------------------------- ACTION ----------------------------------------"
   ]
  },
  {
   "cell_type": "code",
   "execution_count": 15,
   "metadata": {},
   "outputs": [
    {
     "name": "stdout",
     "output_type": "stream",
     "text": [
      "Created action:  ipcam_dataset\\aoa\n"
     ]
    }
   ],
   "source": [
    "actions = np.array(['aoa'])\n",
    "\n",
    "# Then, create a directory for each action\n",
    "for action in actions:\n",
    "    action_path = os.path.join(DATA_PATH, action)\n",
    "    if not os.path.exists(action_path):\n",
    "        os.makedirs(action_path)\n",
    "        print(f\"Created action:  {action_path}\")\n",
    "    else:\n",
    "        print(f\"Action {action} already existed!   --->   {action_path}\")\n",
    "\n",
    "# # Videos are going to be 30 frames in length\n",
    "sequence_length = 30\n",
    "\n",
    "start_sequence = 0\n",
    "end_sequence = 3\n",
    "\n",
    "\n",
    "for action in actions: \n",
    "    for sequence in range(start_sequence,end_sequence):\n",
    "        try:\n",
    "            os.makedirs(os.path.join(DATA_PATH, action, str(sequence)))\n",
    "            os.makedirs(os.path.join(DATA_PATH, action, str(sequence),\"landmarks\"))\n",
    "        except:\n",
    "            pass"
   ]
  },
  {
   "cell_type": "markdown",
   "metadata": {},
   "source": [
    "## --------------------------- EACH VIDEO HAVE 30 FRAMES -------------------------"
   ]
  },
  {
   "cell_type": "code",
   "execution_count": 30,
   "metadata": {},
   "outputs": [],
   "source": [
    "import requests\n",
    "from io import BytesIO\n",
    "\n",
    "\n",
    "IP_WEBCAM_URL = \"http://192.168.0.104:8080/shot.jpg\"\n",
    "\n",
    "def get_ip_webcam_frame():\n",
    "    response = requests.get(IP_WEBCAM_URL)\n",
    "    img_array = np.array(bytearray(response.content), dtype=np.uint8)\n",
    "    frame = cv2.imdecode(img_array, -1)\n",
    "    return frame\n",
    "\n",
    "for action in actions:\n",
    "    for sequence in range(start_sequence,end_sequence):\n",
    "        video_name = f'{action}_sequence{sequence}.avi'\n",
    "        video_path = os.path.join(DATA_PATH, action, str(sequence), video_name)\n",
    "        out = cv2.VideoWriter(video_path, cv2.VideoWriter_fourcc(*'XVID'), 10.0, (640, 480))\n",
    "\n",
    "        for frame_num in range(sequence_length):\n",
    "            # ret, frame = cap.read()\n",
    "            frame = get_ip_webcam_frame()\n",
    "            \n",
    "\n",
    "            out.write(frame)\n",
    "\n",
    "            if frame_num == 0:\n",
    "                cv2.putText(frame, 'STARTING COLLECTION', (120, 200), \n",
    "                           cv2.FONT_HERSHEY_SIMPLEX, 1, (0, 255, 0), 4, cv2.LINE_AA)\n",
    "                cv2.putText(frame, f'Collecting frames for {action} Video Number {sequence}', (15, 12), \n",
    "                           cv2.FONT_HERSHEY_SIMPLEX, 0.5, (0, 0, 255), 1, cv2.LINE_AA)\n",
    "                cv2.imshow('OpenCV Feed', frame)\n",
    "                cv2.waitKey(2000)\n",
    "            else:\n",
    "                cv2.putText(frame, f'Collecting frames for {action} Video Number {sequence}', (15, 12), \n",
    "                           cv2.FONT_HERSHEY_SIMPLEX, 0.5, (0, 0, 255), 1, cv2.LINE_AA)\n",
    "                cv2.imshow('OpenCV Feed', frame)\n",
    "                cv2.waitKey(100)\n",
    "\n",
    "            if cv2.waitKey(10) & 0xFF == ord('q'):\n",
    "                break\n",
    "        \n",
    "        out.release()\n",
    "\n",
    "cv2.destroyAllWindows()"
   ]
  },
  {
   "cell_type": "markdown",
   "metadata": {},
   "source": [
    "## -------------- EXTRACT FRAMES AND LANDMARKS FROM ALL VIDEOS --------------"
   ]
  },
  {
   "cell_type": "code",
   "execution_count": 31,
   "metadata": {},
   "outputs": [
    {
     "name": "stdout",
     "output_type": "stream",
     "text": [
      "Processing completed.\n"
     ]
    }
   ],
   "source": [
    "# Initialize holistic model\n",
    "with mp_holistic.Holistic(min_detection_confidence=0.5, min_tracking_confidence=0.5) as holistic:\n",
    "\n",
    "    # Iterate over actions\n",
    "    for action in actions:\n",
    "        action_path = os.path.join(DATA_PATH, action)\n",
    "        for sequence in range(start_sequence, end_sequence ):\n",
    "            sequence_path = os.path.join(action_path, str(sequence))\n",
    "            video_name = f'{action}_sequence{sequence}.avi'\n",
    "            video_path = os.path.join(sequence_path, video_name)\n",
    "            \n",
    "            # Check if video file exists\n",
    "            if not os.path.exists(video_path):\n",
    "                print(f\"Video file not found: {video_path}\")\n",
    "                continue\n",
    "            \n",
    "            # Create landmarks and frames directories if they don't exist\n",
    "            landmarks_path = os.path.join(sequence_path, 'landmarks')\n",
    "            frames_path = os.path.join(sequence_path, 'frames')\n",
    "            if not os.path.exists(landmarks_path):\n",
    "                os.makedirs(landmarks_path)\n",
    "            if not os.path.exists(frames_path):\n",
    "                os.makedirs(frames_path)\n",
    "            \n",
    "            # Capture video\n",
    "            cap = cv2.VideoCapture(video_path)\n",
    "            frame_num = 0\n",
    "            \n",
    "            while cap.isOpened():\n",
    "                ret, frame = cap.read()\n",
    "                if not ret:\n",
    "                    break\n",
    "                \n",
    "                # Process the frame and extract landmarks\n",
    "                image, results = mediapipe_detection(frame, holistic)\n",
    "                draw_styled_landmarks(image, results)\n",
    "                keypoints = extract_keypoints(results)\n",
    "                \n",
    "                # Save the keypoints as .npy file\n",
    "                npy_path = os.path.join(landmarks_path, f'{frame_num}.npy')\n",
    "                np.save(npy_path, keypoints)\n",
    "                \n",
    "                # Save the frame with drawn landmarks\n",
    "                frame_path = os.path.join(frames_path, f'{frame_num}.jpg')\n",
    "                cv2.imwrite(frame_path, image)\n",
    "                \n",
    "                frame_num += 1\n",
    "                \n",
    "                if frame_num >= sequence_length:\n",
    "                    break\n",
    "            \n",
    "            cap.release()\n",
    "\n",
    "print(\"Processing completed.\")"
   ]
  },
  {
   "cell_type": "markdown",
   "metadata": {},
   "source": [
    "## -------------- Check any random .npy for Debugging , for example: 10.npy --------------"
   ]
  },
  {
   "cell_type": "code",
   "execution_count": null,
   "metadata": {},
   "outputs": [],
   "source": [
    "import numpy as np\n",
    "import cv2\n",
    "import mediapipe as mp\n",
    "\n",
    "# ------------------------------------\n",
    "\n",
    "video_number = '1'\n",
    "npy_file = '7.npy'\n",
    "\n",
    "# ------------------------------------\n",
    "\n",
    "# Path to a random .npy file (replace with the actual path to your .npy file)\n",
    "npy_file_path = f'{DATA_PATH}/{actions[0]}/{video_number}/landmarks/{npy_file}'\n",
    "\n",
    "# Initialize MediaPipe drawing\n",
    "mp_drawing = mp.solutions.drawing_utils\n",
    "mp_holistic = mp.solutions.holistic\n",
    "\n",
    "def draw_landmarks_on_black_image(keypoints, image_size=(640, 480)):\n",
    "    # Create a black image\n",
    "    black_image = np.zeros((image_size[1], image_size[0], 3), dtype=np.uint8)\n",
    "    \n",
    "    # Extract different landmarks from keypoints\n",
    "    pose_landmarks = keypoints[:33*4].reshape(33, 4)\n",
    "    face_landmarks = keypoints[33*4:33*4+468*3].reshape(468, 3)\n",
    "    lh_landmarks = keypoints[33*4+468*3:33*4+468*3+21*3].reshape(21, 3)\n",
    "    rh_landmarks = keypoints[33*4+468*3+21*3:].reshape(21, 3)\n",
    "    \n",
    "    # Draw pose landmarks\n",
    "    for landmark in pose_landmarks:\n",
    "        x, y, z, visibility = landmark\n",
    "        if visibility > 0.5:  # Draw only visible landmarks\n",
    "            cv2.circle(black_image, (int(x * image_size[0]), int(y * image_size[1])), 5, (255, 0, 0), -1)\n",
    "    \n",
    "    # Draw face landmarks\n",
    "    for landmark in face_landmarks:\n",
    "        x, y, z = landmark\n",
    "        cv2.circle(black_image, (int(x * image_size[0]), int(y * image_size[1])), 1, (0, 255, 0), -1)\n",
    "    \n",
    "    # Draw left hand landmarks\n",
    "    for landmark in lh_landmarks:\n",
    "        x, y, z = landmark\n",
    "        cv2.circle(black_image, (int(x * image_size[0]), int(y * image_size[1])), 5, (0, 0, 255), -1)\n",
    "    \n",
    "    # Draw right hand landmarks\n",
    "    for landmark in rh_landmarks:\n",
    "        x, y, z = landmark\n",
    "        cv2.circle(black_image, (int(x * image_size[0]), int(y * image_size[1])), 5, (255, 255, 0), -1)\n",
    "    \n",
    "    return black_image\n",
    "\n",
    "# Load the keypoints from the .npy file\n",
    "keypoints = np.load(npy_file_path)\n",
    "\n",
    "# Draw the landmarks on a black image\n",
    "black_image_with_landmarks = draw_landmarks_on_black_image(keypoints)\n",
    "\n",
    "# Display the image\n",
    "cv2.imshow('Landmarks on Black Image', black_image_with_landmarks)\n",
    "cv2.waitKey(0)\n",
    "cv2.destroyAllWindows()"
   ]
  }
 ],
 "metadata": {
  "kernelspec": {
   "display_name": "asl_sign_detection",
   "language": "python",
   "name": "python3"
  },
  "language_info": {
   "codemirror_mode": {
    "name": "ipython",
    "version": 3
   },
   "file_extension": ".py",
   "mimetype": "text/x-python",
   "name": "python",
   "nbconvert_exporter": "python",
   "pygments_lexer": "ipython3",
   "version": "3.9.12"
  }
 },
 "nbformat": 4,
 "nbformat_minor": 2
}
